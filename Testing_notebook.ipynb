{
 "cells": [
  {
   "cell_type": "code",
   "execution_count": 2,
   "metadata": {},
   "outputs": [
    {
     "data": {
      "text/html": [
       "<div>\n",
       "<style scoped>\n",
       "    .dataframe tbody tr th:only-of-type {\n",
       "        vertical-align: middle;\n",
       "    }\n",
       "\n",
       "    .dataframe tbody tr th {\n",
       "        vertical-align: top;\n",
       "    }\n",
       "\n",
       "    .dataframe thead th {\n",
       "        text-align: right;\n",
       "    }\n",
       "</style>\n",
       "<table border=\"1\" class=\"dataframe\">\n",
       "  <thead>\n",
       "    <tr style=\"text-align: right;\">\n",
       "      <th></th>\n",
       "      <th>Unnamed: 0</th>\n",
       "      <th>canonical_smiles</th>\n",
       "      <th>-log(M)</th>\n",
       "    </tr>\n",
       "  </thead>\n",
       "  <tbody>\n",
       "    <tr>\n",
       "      <th>0</th>\n",
       "      <td>0</td>\n",
       "      <td>Cc1cc(C)c(/C=C2\\C(=O)Nc3ncnc(Nc4ccc(F)c(Cl)c4)...</td>\n",
       "      <td>7.387216</td>\n",
       "    </tr>\n",
       "    <tr>\n",
       "      <th>1</th>\n",
       "      <td>3</td>\n",
       "      <td>Cc1cc(C(=O)N2CCOCC2)[nH]c1/C=C1\\C(=O)Nc2ncnc(N...</td>\n",
       "      <td>6.769551</td>\n",
       "    </tr>\n",
       "    <tr>\n",
       "      <th>2</th>\n",
       "      <td>6</td>\n",
       "      <td>CN(c1ccccc1)c1ncnc2ccc(N/N=N/Cc3ccccn3)cc12</td>\n",
       "      <td>5.031517</td>\n",
       "    </tr>\n",
       "    <tr>\n",
       "      <th>3</th>\n",
       "      <td>9</td>\n",
       "      <td>N#CC(C#N)=Cc1cc(O)ccc1[N+](=O)[O-]</td>\n",
       "      <td>4.017729</td>\n",
       "    </tr>\n",
       "    <tr>\n",
       "      <th>4</th>\n",
       "      <td>10</td>\n",
       "      <td>Cc1cc(C(=O)NCCN2CCOCC2)[nH]c1/C=C1\\C(=O)N(C)c2...</td>\n",
       "      <td>5.274905</td>\n",
       "    </tr>\n",
       "  </tbody>\n",
       "</table>\n",
       "</div>"
      ],
      "text/plain": [
       "   Unnamed: 0                                   canonical_smiles   -log(M)\n",
       "0           0  Cc1cc(C)c(/C=C2\\C(=O)Nc3ncnc(Nc4ccc(F)c(Cl)c4)...  7.387216\n",
       "1           3  Cc1cc(C(=O)N2CCOCC2)[nH]c1/C=C1\\C(=O)Nc2ncnc(N...  6.769551\n",
       "2           6        CN(c1ccccc1)c1ncnc2ccc(N/N=N/Cc3ccccn3)cc12  5.031517\n",
       "3           9                 N#CC(C#N)=Cc1cc(O)ccc1[N+](=O)[O-]  4.017729\n",
       "4          10  Cc1cc(C(=O)NCCN2CCOCC2)[nH]c1/C=C1\\C(=O)N(C)c2...  5.274905"
      ]
     },
     "execution_count": 2,
     "metadata": {},
     "output_type": "execute_result"
    }
   ],
   "source": [
    "``\n",
    "## ---------------------------------------------------------------- ##\n",
    "## --------- Feature Engineering with Cell Based Format ----------- ##\n",
    "## ---------------------------------------------------------------- ##\n",
    "\n",
    "import numpy as np\n",
    "import pandas as pd\n",
    "from rdkit.Chem import AllChem\n",
    "from rdkit import Chem\n",
    "from rdkit.Chem import Descriptors\n",
    "from rdkit.ML.Descriptors import MoleculeDescriptors\n",
    "from mordred import Calculator, descriptors\n",
    "import plotly.graph_objects as go\n",
    "\n",
    "\n",
    "cbf_df = pd.read_csv(\"erbb1_singleprotein_neglog10_ic50.csv\")\n",
    "\n",
    "cbf_df.head()\n"
   ]
  },
  {
   "cell_type": "code",
   "execution_count": 3,
   "metadata": {},
   "outputs": [],
   "source": [
    "def RDkit_descriptors(smiles):\n",
    "    mols = [Chem.MolFromSmiles(i) for i in smiles] \n",
    "    calc = MoleculeDescriptors.MolecularDescriptorCalculator([x[0] for x in Descriptors._descList])\n",
    "    desc_names = calc.GetDescriptorNames()\n",
    "    \n",
    "    Mol_descriptors =[]\n",
    "    for mol in mols:\n",
    "        # add hydrogens to molecules\n",
    "        mol=Chem.AddHs(mol)\n",
    "        # Calculate all 200 descriptors for each molecule\n",
    "        descriptors = calc.CalcDescriptors(mol)\n",
    "        Mol_descriptors.append(descriptors)\n",
    "    return Mol_descriptors,desc_names \n",
    "\n",
    "Mol_descriptors,desc_names = RDkit_descriptors(cbf_df['canonical_smiles'])\n",
    "\n",
    "\n",
    "df_with_200_descriptors = pd.DataFrame(Mol_descriptors,columns=desc_names)\n",
    "\n",
    "df_with_200_descriptors.to_csv(\"cellbased_descriptors.csv\", index = False)\n",
    "\n",
    "print(df_with_200_descriptors.shape)\n"
   ]
  },
  {
   "cell_type": "code",
   "execution_count": 4,
   "metadata": {},
   "outputs": [
    {
     "name": "stdout",
     "output_type": "stream",
     "text": [
      "(5385, 208)\n"
     ]
    }
   ],
   "source": [
    "print(df_with_200_descriptors.shape)"
   ]
  },
  {
   "cell_type": "code",
   "execution_count": 6,
   "metadata": {},
   "outputs": [
    {
     "name": "stdout",
     "output_type": "stream",
     "text": [
      "Single-value columns found and removed:\n",
      "SMR_VSA8\n",
      "SlogP_VSA9\n",
      "fr_azide\n",
      "fr_benzodiazepine\n",
      "fr_diazo\n",
      "fr_dihydropyridine\n",
      "fr_isocyan\n",
      "fr_isothiocyan\n",
      "fr_lactam\n",
      "fr_nitro_arom_nonortho\n",
      "fr_phos_ester\n",
      "fr_prisulfonamd\n",
      "fr_thiocyan\n",
      "fr_unbrch_alkane\n",
      "(5385, 94)\n"
     ]
    }
   ],
   "source": [
    "df = pd.DataFrame(df_with_200_descriptors)\n",
    "import re\n",
    "from sklearn.feature_selection import VarianceThreshold\n",
    "\n",
    "\n",
    "#-------Check for single value columns ----------\n",
    "\n",
    "##---DEFINE FUNCTIONS---##\n",
    "\n",
    "#Function to identify and remove single value columns in data.\n",
    "def find_single_value_columns(dataframe):\n",
    "    #Loop over columns and return those with only 1 unique value\n",
    "    return [col for col in dataframe if dataframe[col].nunique() == 1]\n",
    "\n",
    "#Update  user\n",
    "single_value_columns = find_single_value_columns(df)\n",
    "print(\"Single-value columns found and removed:\")\n",
    "for idx, column in enumerate(single_value_columns, 1):\n",
    "    print(f\"{column}\")  #Print col name to user thats removed\n",
    "\n",
    "#Identify and remove SVC's    \n",
    "single_value_columns = find_single_value_columns(df)\n",
    "\n",
    "#Execute removal of SVC's\n",
    "df.drop(columns=single_value_columns, inplace=True)\n",
    "\n",
    "#------- Remove columns with variance <1 ----------\n",
    "\n",
    "selector = VarianceThreshold(threshold=1)  \n",
    "\n",
    "numeric_df = df.select_dtypes(include=[np.number])\n",
    "transformed_data = selector.fit_transform(numeric_df)\n",
    "\n",
    "cols = numeric_df.columns[selector.get_support(indices=True)]\n",
    "\n",
    "df_selected = pd.DataFrame(transformed_data, columns=cols)\n",
    "\n",
    "\n",
    "\n",
    "\n"
   ]
  }
 ],
 "metadata": {
  "kernelspec": {
   "display_name": "Python 3",
   "language": "python",
   "name": "python3"
  },
  "language_info": {
   "codemirror_mode": {
    "name": "ipython",
    "version": 3
   },
   "file_extension": ".py",
   "mimetype": "text/x-python",
   "name": "python",
   "nbconvert_exporter": "python",
   "pygments_lexer": "ipython3",
   "version": "3.11.8"
  }
 },
 "nbformat": 4,
 "nbformat_minor": 2
}
